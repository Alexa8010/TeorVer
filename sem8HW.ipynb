{
 "cells": [
  {
   "cell_type": "code",
   "execution_count": null,
   "metadata": {},
   "outputs": [],
   "source": [
    "1. 3Даны значения величины заработной платы заемщиков банка (zp) \n",
    "и значения их поведенческого кредитного скоринга (ks): \n",
    "zp = [35, 45, 190, 200, 40, 70, 54, 150, 120, 110], \n",
    "ks = [401, 574, 874, 919, 459, 739, 653, 902, 746, 832]. \n",
    "Найдите ковариацию этих двух величин с помощью элементарных действий, \n",
    "а затем с помощью функции cov из numpy Полученные значения должны быть равны. \n",
    "Найдите коэффициент корреляции Пирсона с помощью ковариации и среднеквадратичных отклонений двух признаков, \n",
    "а затем с использованием функций из библиотек numpy и pandas."
   ]
  },
  {
   "cell_type": "code",
   "execution_count": 10,
   "metadata": {},
   "outputs": [],
   "source": [
    "import numpy as np\n",
    "import scipy.stats as stats"
   ]
  },
  {
   "cell_type": "code",
   "execution_count": 4,
   "metadata": {},
   "outputs": [],
   "source": [
    "zp = np.array([35, 45, 190, 200, 40, 70, 54, 150, 120, 110])\n",
    "ks = np.array([401, 574, 874, 919, 459, 739, 653, 902, 746, 832])\n",
    "\n",
    "cov1 = (sum((zp - sum(zp)/len(zp))*(ks - sum(ks)/len(ks))))/(len(zp) - 1) # 10175.377777777778\n",
    "cov2 = np.cov(zp, ks, ddof=1) # 10175.377777777778 \n",
    "\n",
    "std_zp = np.std(zp, ddof=1)\n",
    "std_ks = np.std(ks, ddof=1)\n",
    "\n",
    "corrcoef1 = cov1/(std_ks*std_zp) #0.8874900920739162\n",
    "corrcoef2 = np.corrcoef(zp,ks) #0.8874900920739162\n"
   ]
  },
  {
   "cell_type": "markdown",
   "metadata": {},
   "source": [
    "Измерены значения IQ выборки студентов, \n",
    "обучающихся в местных технических вузах: 131, 125, 115, 122, 131, 115, 107, 99, 125, 111. \n",
    "Известно, что в генеральной совокупности IQ распределен нормально. \n",
    "Найдите доверительный интервал для математического ожидания с надежностью 0.95."
   ]
  },
  {
   "cell_type": "code",
   "execution_count": 5,
   "metadata": {},
   "outputs": [],
   "source": [
    "x =np.array([31, 125, 115, 122, 131, 115, 107, 99, 125, 111])\n",
    "n=len(x)\n",
    "M = np.mean(x) \n",
    "# Формула для расчета 95%CI = M+/-t(alpha/2)*(Sd\\(n**0.5)) => 95%CI = M+/-t(alpha/2)*((D\\n)**0.5)\n",
    "D = np.var(x,ddof=1) \n",
    "# t(alpha/2) = t\n",
    "t = stats.t.ppf(0.975, 9) #где 9 - число степеней свободы (n-1)\n",
    "# Low value of 95%CI = a\n",
    "a = M-t*(D/n)**0.5 #a = 87.55861090538757 128.6413890946124\n",
    "# Вариант расчета через np: a = M-t*np.sqrt(D/n)\n",
    "# Upper value of 95%CI = b\n",
    "b = M+t*np.sqrt(D/n) # b = 128.6413890946124\n"
   ]
  },
  {
   "cell_type": "markdown",
   "metadata": {},
   "source": [
    "Интервал [87.56; 128.64] с 95% вероятностью будет содаржать истинное значение M IQ.  "
   ]
  },
  {
   "cell_type": "markdown",
   "metadata": {},
   "source": [
    " Известно, что рост футболистов в сборной распределен нормально \n",
    "с дисперсией генеральной совокупности, равной 25 кв.см. Объем выборки равен 27, \n",
    "среднее выборочное составляет 174.2. Найдите доверительный интервал для математического ожидания с надежностью 0.95."
   ]
  },
  {
   "cell_type": "code",
   "execution_count": 11,
   "metadata": {},
   "outputs": [
    {
     "name": "stdout",
     "output_type": "stream",
     "text": [
      "172.31398912064722 176.08601087935276\n"
     ]
    }
   ],
   "source": [
    "Sd = 5\n",
    "M = 174.2\n",
    "n = 27\n",
    "# z(alpha/2) = z\n",
    "z = 1.96\n",
    "# Фрмулы: 95%CI = M+/-z*SE,   SE = Sd/(n**0.5)  \n",
    "SE = Sd/(n**0.5) \n",
    "# Low value of 95%CI = a\n",
    "a = M - z * SE \n",
    "# Upper value of 95%CI = b\n",
    "b = M + z * SE \n",
    "print (a, b)\n",
    "# Интервал [172.31; 176.09] c 95% вероятностью будет содержать математическое ожидание генеральной совокупности."
   ]
  }
 ],
 "metadata": {
  "kernelspec": {
   "display_name": "Python 3",
   "language": "python",
   "name": "python3"
  },
  "language_info": {
   "codemirror_mode": {
    "name": "ipython",
    "version": 3
   },
   "file_extension": ".py",
   "mimetype": "text/x-python",
   "name": "python",
   "nbconvert_exporter": "python",
   "pygments_lexer": "ipython3",
   "version": "3.11.3"
  }
 },
 "nbformat": 4,
 "nbformat_minor": 2
}
